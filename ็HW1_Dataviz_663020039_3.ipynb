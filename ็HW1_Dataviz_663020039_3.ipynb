{
  "nbformat": 4,
  "nbformat_minor": 0,
  "metadata": {
    "colab": {
      "provenance": [],
      "authorship_tag": "ABX9TyN0cC1T2ZX8ZmbQGiKUDk0C",
      "include_colab_link": true
    },
    "kernelspec": {
      "name": "python3",
      "display_name": "Python 3"
    },
    "language_info": {
      "name": "python"
    }
  },
  "cells": [
    {
      "cell_type": "markdown",
      "metadata": {
        "id": "view-in-github",
        "colab_type": "text"
      },
      "source": [
        "<a href=\"https://colab.research.google.com/github/Hanniix22/dataviz2025/blob/main/%E0%B9%87HW1_Dataviz_663020039_3.ipynb\" target=\"_parent\"><img src=\"https://colab.research.google.com/assets/colab-badge.svg\" alt=\"Open In Colab\"/></a>"
      ]
    },
    {
      "cell_type": "markdown",
      "source": [
        "# HW1 คำนวณช่วงเวลาเป็นวินาทีของช่วงเวลาต่อไปนี้โดยใช้คำสั่ง split() ช่วย (print ออกมาให้สวยงาม)\n",
        "12:30:15, Wednesday - 13:41:07, Thursday\n",
        "\n",
        "12:53:15, Monday  - 00:59:25, Tuesday\n",
        "\n",
        "16:06:09, Sunday - 11:11:11, Tuesday"
      ],
      "metadata": {
        "id": "qoSCjvljM-rG"
      }
    },
    {
      "cell_type": "code",
      "source": [
        "#list วันในสัปดาห์ เรียงจาก Monday -> Sunday\n",
        "weekdays = [\"Monday\", \"Tuesday\", \"Wednesday\", \"Thursday\", \"Friday\", \"Saturday\", \"Sunday\"]\n",
        "\n",
        "def time_to_seconds(time_str):\n",
        "    h, m, s = map(int, time_str.split(\":\"))\n",
        "    return h * 3600 + m * 60 + s\n",
        "\n",
        "def calc_duration_with_days(start_time, start_day, end_time, end_day):\n",
        "    start_sec = time_to_seconds(start_time)\n",
        "    end_sec = time_to_seconds(end_time)\n",
        "\n",
        "    # ใช้ index() แทนการแมป\n",
        "    start_day_index = weekdays.index(start_day)\n",
        "    end_day_index = weekdays.index(end_day)\n",
        "\n",
        "    # คำนวณจำนวนวันที่ห่างกันแบบวนสัปดาห์\n",
        "    day_diff = (end_day_index - start_day_index) % 7\n",
        "\n",
        "    # ถ้าวันเท่ากัน แต่เวลา end < start แปลว่าข้าม 1 สัปดาห์\n",
        "    if day_diff == 0 and end_sec < start_sec:\n",
        "        day_diff = 7\n",
        "\n",
        "    total_duration = (day_diff * 24 * 3600) + (end_sec - start_sec)\n",
        "    return total_duration\n",
        "\n",
        "times = [\n",
        "    \"12:30:15, Wednesday - 13:41:07, Thursday\",\n",
        "    \"12:53:15, Monday - 00:59:25, Tuesday\",\n",
        "    \"16:06:09, Sunday - 11:11:11, Tuesday\",\n",
        "]\n",
        "\n",
        "for line in times:\n",
        "    part1, part2 = line.split(\" - \")\n",
        "    start_time, start_day = part1.split(\", \")\n",
        "    end_time, end_day = part2.split(\", \")\n",
        "\n",
        "    duration = calc_duration_with_days(start_time, start_day, end_time, end_day)\n",
        "\n",
        "    print(f\"{start_time}, {start_day} - {end_time}, {end_day} => {duration} วินาที\")"
      ],
      "metadata": {
        "id": "uYDR2G8CgBmb",
        "colab": {
          "base_uri": "https://localhost:8080/"
        },
        "outputId": "068a7e95-7ea7-4f70-98a3-c312564339a6"
      },
      "execution_count": 1,
      "outputs": [
        {
          "output_type": "stream",
          "name": "stdout",
          "text": [
            "12:30:15, Wednesday - 13:41:07, Thursday => 90652 วินาที\n",
            "12:53:15, Monday - 00:59:25, Tuesday => 43570 วินาที\n",
            "16:06:09, Sunday - 11:11:11, Tuesday => 155102 วินาที\n"
          ]
        }
      ]
    }
  ]
}